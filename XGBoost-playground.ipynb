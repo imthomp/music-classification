{
 "cells": [
  {
   "cell_type": "code",
   "execution_count": 1,
   "metadata": {},
   "outputs": [],
   "source": [
    "import xgboost as xgb\n",
    "import pandas as pd\n",
    "from sklearn.model_selection import train_test_split\n",
    "from sklearn.metrics import accuracy_score, classification_report\n",
    "\n",
    "\n",
    "df = pd.read_csv(\"data/features_3_sec.csv\")\n",
    "\n",
    "X = df.drop([\"label\", \"filename\"], axis=1)\n",
    "\n",
    "y = df[\"label\"]\n",
    "y = pd.get_dummies(y)\n",
    "\n",
    "X_train, X_test, y_train, y_test = train_test_split(X, y, random_state=20)"
   ]
  },
  {
   "cell_type": "markdown",
   "metadata": {},
   "source": [
    "# Fit an out of the box model and see how it does"
   ]
  },
  {
   "cell_type": "code",
   "execution_count": 3,
   "metadata": {},
   "outputs": [
    {
     "name": "stdout",
     "output_type": "stream",
     "text": [
      "Train Accuracy: 0.9991991457554725\n",
      "Test Accuracy: 0.7942353883106485\n",
      "              precision    recall  f1-score   support\n",
      "\n",
      "       blues       0.79      0.95      0.86       208\n",
      "   classical       0.95      0.97      0.96       241\n",
      "     country       0.67      0.91      0.77       194\n",
      "       disco       0.75      0.92      0.83       206\n",
      "      hiphop       0.87      0.96      0.91       226\n",
      "        jazz       0.88      0.94      0.91       215\n",
      "       metal       0.88      0.95      0.91       242\n",
      "         pop       0.83      0.97      0.89       217\n",
      "      reggae       0.75      0.96      0.85       199\n",
      "        rock       0.71      0.96      0.82       177\n",
      "\n",
      "   micro avg       0.81      0.95      0.87      2125\n",
      "   macro avg       0.81      0.95      0.87      2125\n",
      "weighted avg       0.82      0.95      0.88      2125\n",
      " samples avg       0.81      0.80      0.80      2125\n",
      "\n"
     ]
    },
    {
     "name": "stderr",
     "output_type": "stream",
     "text": [
      "c:\\Users\\gmspr\\anaconda3\\envs\\stats\\lib\\site-packages\\sklearn\\metrics\\_classification.py:1469: UndefinedMetricWarning: Recall and F-score are ill-defined and being set to 0.0 in samples with no true labels. Use `zero_division` parameter to control this behavior.\n",
      "  _warn_prf(average, modifier, msg_start, len(result))\n"
     ]
    }
   ],
   "source": [
    "model = xgb.XGBClassifier()\n",
    "model.fit(X_train, y_train)\n",
    "train_preds = model.predict(X_train)\n",
    "test_preds = model.predict(X_test)\n",
    "\n",
    "print(f\"Train Accuracy: {accuracy_score(train_preds, y_train)}\")\n",
    "print(f\"Test Accuracy: {accuracy_score(test_preds, y_test)}\")\n",
    "class_names = y.columns\n",
    "print(classification_report(test_preds, y_test, target_names=class_names))"
   ]
  },
  {
   "cell_type": "code",
   "execution_count": 14,
   "metadata": {},
   "outputs": [
    {
     "data": {
      "text/plain": [
       "['tempo',\n",
       " 'beats',\n",
       " 'chroma_stft',\n",
       " 'rmse',\n",
       " 'spectral_centroid',\n",
       " 'spectral_bandwidth',\n",
       " 'rolloff',\n",
       " 'zero_crossing_rate',\n",
       " 'mfcc1',\n",
       " 'mfcc2',\n",
       " 'mfcc3',\n",
       " 'mfcc4',\n",
       " 'mfcc5',\n",
       " 'mfcc6',\n",
       " 'mfcc7',\n",
       " 'mfcc8',\n",
       " 'mfcc9',\n",
       " 'mfcc10',\n",
       " 'mfcc11',\n",
       " 'mfcc12',\n",
       " 'mfcc13',\n",
       " 'mfcc14',\n",
       " 'mfcc15',\n",
       " 'mfcc16',\n",
       " 'mfcc17',\n",
       " 'mfcc18',\n",
       " 'mfcc19',\n",
       " 'mfcc20']"
      ]
     },
     "execution_count": 14,
     "metadata": {},
     "output_type": "execute_result"
    }
   ],
   "source": [
    "class_names"
   ]
  }
 ],
 "metadata": {
  "kernelspec": {
   "display_name": "stats",
   "language": "python",
   "name": "python3"
  },
  "language_info": {
   "codemirror_mode": {
    "name": "ipython",
    "version": 3
   },
   "file_extension": ".py",
   "mimetype": "text/x-python",
   "name": "python",
   "nbconvert_exporter": "python",
   "pygments_lexer": "ipython3",
   "version": "3.10.13"
  }
 },
 "nbformat": 4,
 "nbformat_minor": 2
}
