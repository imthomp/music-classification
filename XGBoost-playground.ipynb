{
 "cells": [
  {
   "cell_type": "code",
   "execution_count": 7,
   "metadata": {},
   "outputs": [],
   "source": [
    "import xgboost as xgb\n",
    "import pandas as pd\n",
    "from sklearn.model_selection import train_test_split\n",
    "from sklearn.metrics import accuracy_score, classification_report\n",
    "\n",
    "\n",
    "df = pd.read_csv(\"data/data.csv\")\n",
    "\n",
    "X = df.drop([\"label\", \"filename\"], axis=1)\n",
    "\n",
    "y = df[\"label\"]\n",
    "y = pd.get_dummies(y)\n",
    "\n",
    "X_train, X_test, y_train, y_test = train_test_split(X, y, random_state=20)"
   ]
  },
  {
   "cell_type": "markdown",
   "metadata": {},
   "source": [
    "# Fit an out of the box model and see how it does"
   ]
  },
  {
   "cell_type": "code",
   "execution_count": 8,
   "metadata": {},
   "outputs": [
    {
     "name": "stdout",
     "output_type": "stream",
     "text": [
      "Train Accuracy: 0.9986666666666667\n",
      "Train Accuracy: 0.472\n",
      "              precision    recall  f1-score   support\n",
      "\n",
      "       blues       0.62      0.81      0.70        16\n",
      "   classical       0.80      0.95      0.87        21\n",
      "     country       0.19      0.80      0.31         5\n",
      "       disco       0.21      0.50      0.29        12\n",
      "      hiphop       0.50      0.80      0.62        20\n",
      "        jazz       0.49      0.90      0.63        20\n",
      "       metal       0.89      0.77      0.83        22\n",
      "         pop       0.65      0.68      0.67        19\n",
      "      reggae       0.41      0.80      0.55        15\n",
      "        rock       0.18      1.00      0.30         3\n",
      "\n",
      "   micro avg       0.49      0.80      0.61       153\n",
      "   macro avg       0.49      0.80      0.58       153\n",
      "weighted avg       0.58      0.80      0.65       153\n",
      " samples avg       0.49      0.48      0.48       153\n",
      "\n"
     ]
    },
    {
     "name": "stderr",
     "output_type": "stream",
     "text": [
      "C:\\Users\\bryso\\AppData\\Local\\Packages\\PythonSoftwareFoundation.Python.3.11_qbz5n2kfra8p0\\LocalCache\\local-packages\\Python311\\site-packages\\sklearn\\metrics\\_classification.py:1509: UndefinedMetricWarning: Recall is ill-defined and being set to 0.0 in samples with no true labels. Use `zero_division` parameter to control this behavior.\n",
      "  _warn_prf(average, modifier, f\"{metric.capitalize()} is\", len(result))\n"
     ]
    }
   ],
   "source": [
    "model = xgb.XGBClassifier()\n",
    "model.fit(X_train, y_train)\n",
    "train_preds = model.predict(X_train)\n",
    "test_preds = model.predict(X_test)\n",
    "\n",
    "print(f\"Train Accuracy: {accuracy_score(train_preds, y_train)}\")\n",
    "print(f\"Train Accuracy: {accuracy_score(test_preds, y_test)}\")\n",
    "class_names = y.columns\n",
    "print(classification_report(test_preds, y_test, target_names=class_names))"
   ]
  },
  {
   "cell_type": "code",
   "execution_count": 14,
   "metadata": {},
   "outputs": [
    {
     "data": {
      "text/plain": [
       "['tempo',\n",
       " 'beats',\n",
       " 'chroma_stft',\n",
       " 'rmse',\n",
       " 'spectral_centroid',\n",
       " 'spectral_bandwidth',\n",
       " 'rolloff',\n",
       " 'zero_crossing_rate',\n",
       " 'mfcc1',\n",
       " 'mfcc2',\n",
       " 'mfcc3',\n",
       " 'mfcc4',\n",
       " 'mfcc5',\n",
       " 'mfcc6',\n",
       " 'mfcc7',\n",
       " 'mfcc8',\n",
       " 'mfcc9',\n",
       " 'mfcc10',\n",
       " 'mfcc11',\n",
       " 'mfcc12',\n",
       " 'mfcc13',\n",
       " 'mfcc14',\n",
       " 'mfcc15',\n",
       " 'mfcc16',\n",
       " 'mfcc17',\n",
       " 'mfcc18',\n",
       " 'mfcc19',\n",
       " 'mfcc20']"
      ]
     },
     "execution_count": 14,
     "metadata": {},
     "output_type": "execute_result"
    }
   ],
   "source": [
    "class_names"
   ]
  }
 ],
 "metadata": {
  "kernelspec": {
   "display_name": "stats",
   "language": "python",
   "name": "python3"
  },
  "language_info": {
   "codemirror_mode": {
    "name": "ipython",
    "version": 3
   },
   "file_extension": ".py",
   "mimetype": "text/x-python",
   "name": "python",
   "nbconvert_exporter": "python",
   "pygments_lexer": "ipython3",
   "version": "3.11.8"
  }
 },
 "nbformat": 4,
 "nbformat_minor": 2
}
